{
 "cells": [
  {
   "cell_type": "code",
   "execution_count": null,
   "id": "ff8d29b4",
   "metadata": {},
   "outputs": [],
   "source": [
    "1. How do you distinguish between shutil.copy() and shutil.copytree()?\n",
    "Ans:-  While shutil.copy() will copy a single file, shutil.copytree() will copy an entire folder and every folder and file\n",
    "       contained in it. Calling shutil.copytree(source, destination)\n",
    "        \n",
    "2. What function is used to rename file?\n",
    "Ans:-  Python method rename() renames the file or directory src to dst.If dst is a file or directory(already present),\n",
    "       OSError will be raised.\n",
    "        \n",
    "        #Syntax:- \n",
    "        os.rename(src, dst)\n",
    "        \n",
    "        src - This is the actual name of the file or directory .\n",
    "        dst - This is the new name of the file or directory.\n",
    "        \n",
    "3. What is the difference between the delete functions in the send2trash and shuti modules?\n",
    "Ans:-  The send2trash functions will move a file or folder to the recycle bin,\n",
    "          while shutil functions will permanently delete files and folders.\n",
    "        \n",
    "4. ZipFile objects have a close() method just like File objects'  close() method. What ZipFile method is equivalent to File \n",
    "     object' open() method?\n",
    "Ans:- The zipfile.ZipFile() function is equivalent to the open() function; the first argument is the filename, and the second \n",
    "        argument is the mode to open the ZIP file in (read, write, or append).\n",
    "        \n",
    "5. Create a programme that searches a folder tree for files with a certain file extension (such as. pdf or .jpg).Copy thes files\n",
    "from whatever location they are in to a new folder.\n",
    "Ans:- \n",
    "    \n",
    "    # Write a program that walks through a folder tree \n",
    "# and searches for files with a certain file extension (such as .pdf or .jpg).\n",
    "# Copy these files from whatever location they are in to a new folder.\n",
    "\n",
    "import os, shutil\n",
    "\n",
    "def selectiveCopy(folder, extensions, destFolder):\n",
    "    folder = os.path.abspath(folder)\n",
    "    destFolder = os.path.abspath(destFolder)\n",
    "    print('Looking in', folder, 'for files with extensions of', ', '.join(extensions))\n",
    "    for foldername, subfolders, filenames in os.walk(folder):\n",
    "        for filename in filenames:\n",
    "            name, extension = os.path.splitext(filename)\n",
    "            if extension in extensions:\n",
    "                fileAbsPath = foldername + os.path.sep + filename\n",
    "                print('Coping', fileAbsPath, 'to', destFolder)\n",
    "                shutil.copy(fileAbsPath, destFolder)\n",
    "\n",
    "extensions = ['.php', '.py']\n",
    "folder = 'randomFolder'\n",
    "destFolder = 'selectiveFolder'\n",
    "selectiveCopy(folder, extensions, destFolder)\n",
    "\n",
    "#Output:-\n",
    "Looking in C:\\Users\\PANKAJ VISHWAKAMRA\\randomFolder for files with extensions of .php, .py"
   ]
  }
 ],
 "metadata": {
  "kernelspec": {
   "display_name": "Python 3 (ipykernel)",
   "language": "python",
   "name": "python3"
  },
  "language_info": {
   "codemirror_mode": {
    "name": "ipython",
    "version": 3
   },
   "file_extension": ".py",
   "mimetype": "text/x-python",
   "name": "python",
   "nbconvert_exporter": "python",
   "pygments_lexer": "ipython3",
   "version": "3.9.7"
  }
 },
 "nbformat": 4,
 "nbformat_minor": 5
}
