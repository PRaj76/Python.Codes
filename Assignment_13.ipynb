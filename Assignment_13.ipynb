{
 "cells": [
  {
   "cell_type": "code",
   "execution_count": null,
   "id": "acd8703e",
   "metadata": {},
   "outputs": [],
   "source": [
    "1. What advantages do Excel spreadsheets have over CSV spreadsheets?\n",
    "Ans:- CSV file can perform operations on data while Excel can perform operations on the data.\n",
    "    Comparing  CSV vs Xlsx, CSV file are faster and also consumes less memory whereas Excel \n",
    "    consumes more memory while importing data.\n",
    "\n",
    "2. What do you pass to csv.reader() and csv.writer() to create reader and writer objects?\n",
    "Ans:- \n",
    "# pass a File object, obtained from a call to open().\n",
    "import csv\n",
    "file_csv = open('abc.csv')\n",
    "filereader = csv.reader(file_csv)\n",
    "fileData = list(filereader)\n",
    "fileData\n",
    "\n",
    "3. What modes do File objects for reader and write objects need to be opened in?\n",
    "Ans:-  File objects need to be opened in read-binary ('rb') for Reader objects and write-binary ('wb') for\n",
    "       Writer objects .\n",
    "4. What method takes a list argument and writes it to a CSV file?\n",
    "Ans:- This function takes a list of iterables as parameter and writes each item as \n",
    "      a comma separated line of items in the file.\n",
    "        \n",
    "Exmaple:- \n",
    "    File_abc = open('abc.csv','w')\n",
    "    File_Writer = csv.writer(File_abc)\n",
    "    csv.writer(File_abc).writerow(['cat','fish','dog'])\n",
    "    \n",
    "5. What do the keyword arguments delimiter and line terminator do?\n",
    "Ans:- The delimiter is the character that appears between cells on a row. By default, the delimiter\n",
    "       for a CSV file is a comma. The line terminator is the character that comes at the end of a row.\n",
    "        By default, the line terminator is a newline.\n",
    "\n",
    "6. What function takes a string of JSON data and returns a Python data structure?\n",
    "Ans:- json.loads()\n",
    "    \n",
    "7. What function takes a Python data structure and returns a string of JSON data?\n",
    "Ans:- json.dumps()"
   ]
  }
 ],
 "metadata": {
  "kernelspec": {
   "display_name": "Python 3 (ipykernel)",
   "language": "python",
   "name": "python3"
  },
  "language_info": {
   "codemirror_mode": {
    "name": "ipython",
    "version": 3
   },
   "file_extension": ".py",
   "mimetype": "text/x-python",
   "name": "python",
   "nbconvert_exporter": "python",
   "pygments_lexer": "ipython3",
   "version": "3.9.7"
  }
 },
 "nbformat": 4,
 "nbformat_minor": 5
}
