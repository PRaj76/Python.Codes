{
 "cells": [
  {
   "cell_type": "code",
   "execution_count": null,
   "id": "8b693260",
   "metadata": {},
   "outputs": [],
   "source": [
    "1. What does RGBA stand for?\n",
    "Ans:- The RGB color model is extended in this specification to include “alpha” to allow specification of \n",
    "       the opacity of a color.\n",
    "    \n",
    "2. From the Pillow module, how do you get the RGBA  value of any images?\n",
    "Ans:- \n",
    "from PIL import ImageColor\n",
    "ImageColor.getcolor('green', 'RGBA')\n",
    "ImageColor.getcolor('red', 'RGBA')\n",
    "\n",
    "Output:- (255, 0, 0, 255)\n",
    "    \n",
    "3. What is a box tuple, and how does it work?\n",
    "Ans:- A box tuple is a tuple value of four integers: the left-edge x-coordinate, the top-edge y-coordinate,the width, \n",
    "        and the height, respectively.\n",
    "        \n",
    "4. Use your image and load in notebook then, How can you find out the width and height of an\n",
    "   Image object?\n",
    "Ans:- # import required module\n",
    "from PIL import Image\n",
    "  \n",
    "# get image\n",
    "filepath = \" ----.jpg\" ## filepath name ##\n",
    "img = Image.open(filepath)\n",
    "  \n",
    "# get width and height\n",
    "width = img.width\n",
    "height = img.height\n",
    "  \n",
    "# display width and height\n",
    "print(\"The height of the image is: \", height)\n",
    "print(\"The width of the image is: \", width)\n",
    "\n",
    "\n",
    "5. What method would you call to get Image object for a 100×100 image, excluding the lower-left\n",
    "quarter of it?\n",
    "Ans:- ImageObject.crop((0, 50, 50, 50))\n",
    "    \n",
    "6. After making changes to an Image object, how could you save it as an image file?\n",
    "Ans:- \n",
    "from PIL import Image\n",
    "pic = Image.open('pic.jpg')\n",
    "pic.save('pic2.jpg')\n",
    "\n",
    "7. What module contains Pillow’s shape-drawing code?\n",
    "Ans:- The 'ImageDraw' module provides simple 2D graphics support for Image Object. Generally,\n",
    "      we use this module to create new images.\n",
    "8. Image objects do not have drawing methods. What kind of object does? How do you get this kind\n",
    "   of object?\n",
    "Ans:- ImageDraw objects have shape-drawing methods such as point(), line(), or rectangle().\n",
    "    They are returned by passing the Image object to the ImageDraw.Draw() function."
   ]
  }
 ],
 "metadata": {
  "kernelspec": {
   "display_name": "Python 3 (ipykernel)",
   "language": "python",
   "name": "python3"
  },
  "language_info": {
   "codemirror_mode": {
    "name": "ipython",
    "version": 3
   },
   "file_extension": ".py",
   "mimetype": "text/x-python",
   "name": "python",
   "nbconvert_exporter": "python",
   "pygments_lexer": "ipython3",
   "version": "3.9.7"
  }
 },
 "nbformat": 4,
 "nbformat_minor": 5
}
