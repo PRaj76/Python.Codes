{
 "cells": [
  {
   "cell_type": "code",
   "execution_count": null,
   "id": "173f7b94",
   "metadata": {},
   "outputs": [],
   "source": [
    "1.What is the difference between enclosing a list comprehension in square brackets and\n",
    "parentheses?\n",
    "Ans:-Enclosing a list comprehension in square brackets returns a list.but where as enclosing a list \n",
    "    comprehension in parentheses returns a generator object\n",
    "    \n",
    "l = [ele for ele in range(10)]\n",
    "print(l, type(l))\n",
    "g = (ele for ele in range(10))\n",
    "print(g, type(g))\n",
    "\n",
    "Output:-\n",
    "    [0, 1, 2, 3, 4, 5, 6, 7, 8, 9] <class 'list'>\n",
    "<generator object <genexpr> at 0x0000016C137D77B0> <class 'generator'>\n",
    "\n",
    "2. What is the relationship between generators and iterators?\n",
    "Ans:-\n",
    "Iterator:-\n",
    "Iterators are used mostly to iterate or convert other objects to an iterator using iter() function.\n",
    "\n",
    "Generator:-\n",
    "Generators are mostly used in loops to generate an iterator by returning\n",
    "all the values in the loop without affecting the iteration of the loop\n",
    "\n",
    "3. What are the signs that a function is a generator function?\n",
    "Ans:- If a function contains at least one yield statement\n",
    "(it may contain other yield or return statements), it becomes a generator function.\n",
    "Both yield and return will return some value from a function.\n",
    "\n",
    "4.What is the purpose of a yield statement?\n",
    "Ans:- Yield is generally used to convert a regular Python function into a generator. \n",
    "Return is generally used for the end of the execution and “returns” the result to the caller statement.\n",
    "\n",
    "5. What is the relationship between map calls and list comprehensions? Make a comparison and\n",
    "contrast between the two.\n",
    "Ans:- The main differences between map calls and list comprehensiosn are:\n",
    "        \n",
    ">.List comprehension is more concise and easier to read as compared to map.\n",
    ">.List comprehension allows filtering. In map, we have no such facility. For example,\n",
    "to print all odd numbers in range of 50, we can write [n for n in range(50) if n%2 != 0].\n",
    "There is no alternate for it in map\n",
    ">.List comprehension are used when a list of results is required as final output.\n",
    "but map only returns a map object. it needs to be explicitly coverted to desired datatype.\n",
    ">.List comprehension is faster than map when we need to evaluate expressions that are too long or complicated to express\n",
    ">.Map is faster in case of calling an already defined function on a set of values."
   ]
  }
 ],
 "metadata": {
  "kernelspec": {
   "display_name": "Python 3 (ipykernel)",
   "language": "python",
   "name": "python3"
  },
  "language_info": {
   "codemirror_mode": {
    "name": "ipython",
    "version": 3
   },
   "file_extension": ".py",
   "mimetype": "text/x-python",
   "name": "python",
   "nbconvert_exporter": "python",
   "pygments_lexer": "ipython3",
   "version": "3.9.7"
  }
 },
 "nbformat": 4,
 "nbformat_minor": 5
}
